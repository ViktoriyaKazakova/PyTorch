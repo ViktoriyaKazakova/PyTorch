{
 "cells": [
  {
   "cell_type": "code",
   "execution_count": 3,
   "metadata": {},
   "outputs": [],
   "source": [
    "import torch\n",
    "import torchvision\n",
    "import numpy as np\n",
    "from torch.autograd import Variable\n",
    "from torch import nn \n",
    "from torch import optim\n",
    "import torch.nn.functional as F\n",
    "import torchvision.transforms as transforms"
   ]
  },
  {
   "cell_type": "code",
   "execution_count": 2,
   "metadata": {},
   "outputs": [],
   "source": [
    "import matplotlib.pyplot as plt "
   ]
  },
  {
   "cell_type": "markdown",
   "metadata": {},
   "source": [
    "Добиться вразумительного результата от модели, собранной на занятии (7 угаданныx картинок из 10 предложенных на семинаре). Варианты изменений:\n",
    "  * изменение слоёв и их количества;\n",
    "  * изменение метода оптимизации; \n",
    "  * изменение процесса обучения; \n",
    "  * для продвинутых: преобразование данных transform"
   ]
  },
  {
   "cell_type": "code",
   "execution_count": 4,
   "metadata": {},
   "outputs": [],
   "source": [
    "def print_tens_info(tensor):\n",
    "    print(\"X :\\n%s\\n\" % tensor)\n",
    "    print(\"X количество измерений:\\n%s\\n\" % tensor.dim())\n",
    "    print(\"X размеры : \",  tensor.size())\n",
    "    print(\"X тип : %s\\n\" % (tensor.type()))"
   ]
  },
  {
   "cell_type": "code",
   "execution_count": 5,
   "metadata": {},
   "outputs": [],
   "source": [
    "classes = ('plane', 'car', 'bird', 'cat',\n",
    "           'deer', 'dog', 'frog', 'horse', 'ship', 'truck')"
   ]
  },
  {
   "cell_type": "code",
   "execution_count": 7,
   "metadata": {},
   "outputs": [
    {
     "name": "stdout",
     "output_type": "stream",
     "text": [
      "Downloading https://www.cs.toronto.edu/~kriz/cifar-10-python.tar.gz to C:/Users/vitto/Documents/Новая папка/Фреймворк PyTorch\\cifar-10-python.tar.gz\n"
     ]
    },
    {
     "name": "stderr",
     "output_type": "stream",
     "text": [
      "100.0%"
     ]
    },
    {
     "name": "stdout",
     "output_type": "stream",
     "text": [
      "Extracting C:/Users/vitto/Documents/Новая папка/Фреймворк PyTorch\\cifar-10-python.tar.gz to C:/Users/vitto/Documents/Новая папка/Фреймворк PyTorch\n",
      "torch.Size([3, 32, 32])\n",
      "frog\n"
     ]
    }
   ],
   "source": [
    "train_dataset = torchvision.datasets.CIFAR10(root='C:/Users/vitto/Documents/Новая папка/Фреймворк PyTorch',\n",
    "                                             train=True,  \n",
    "                                             transform=transforms.ToTensor(), \n",
    "                                             download=True)\n",
    "\n",
    "\n",
    "image, label = train_dataset[0]\n",
    "print (image.size())\n",
    "print (classes[label])"
   ]
  },
  {
   "cell_type": "code",
   "execution_count": 8,
   "metadata": {},
   "outputs": [
    {
     "data": {
      "text/plain": [
       "<matplotlib.image.AxesImage at 0x2678e3da208>"
      ]
     },
     "execution_count": 8,
     "metadata": {},
     "output_type": "execute_result"
    },
    {
     "data": {
      "image/png": "[encoded data removed]",
      "text/plain": [
       "<Figure size 432x288 with 1 Axes>"
      ]
     },
     "metadata": {
      "needs_background": "light"
     },
     "output_type": "display_data"
    }
   ],
   "source": [
    "plt.imshow(image.permute(1, 2, 0).numpy())"
   ]
  },
  {
   "cell_type": "code",
   "execution_count": 9,
   "metadata": {},
   "outputs": [],
   "source": [
    "train_loader = torch.utils.data.DataLoader(dataset=train_dataset,\n",
    "                                           batch_size=64, \n",
    "                                           shuffle=True)"
   ]
  },
  {
   "cell_type": "code",
   "execution_count": 13,
   "metadata": {},
   "outputs": [
    {
     "name": "stdout",
     "output_type": "stream",
     "text": [
      "Files already downloaded and verified\n"
     ]
    }
   ],
   "source": [
    "test_dataset = torchvision.datasets.CIFAR10(root='./data', train=False,\n",
    "                                       download=True, transform=transforms.ToTensor())\n",
    "test_loader = torch.utils.data.DataLoader(test_dataset, batch_size=10,\n",
    "                                         shuffle=False)"
   ]
  },
  {
   "cell_type": "code",
   "execution_count": 17,
   "metadata": {},
   "outputs": [],
   "source": [
    "class Net(nn.Module):\n",
    "    def __init__(self):\n",
    "        super().__init__()\n",
    "        self.conv1 = nn.Conv2d(3, 32, 5, padding=1)\n",
    "        self.conv2 = nn.Conv2d(32, 32, 5, padding=1)\n",
    "        self.pool1 = nn.MaxPool2d(2, 2)\n",
    "        self.conv3 = nn.Conv2d(32, 64, 5, padding=1)\n",
    "        self.conv4 = nn.Conv2d(64, 64, 5, padding=1)\n",
    "        self.pool2 = nn.MaxPool2d((2, 2), stride=1)\n",
    "        self.fc1 = nn.Linear(64 * 9 * 9, 256)\n",
    "        self.fc2 = nn.Linear(256, 256)\n",
    "        self.fc3 = nn.Linear(256, 10)\n",
    "        self.dropout = nn.Dropout(0.3)\n",
    "\n",
    "    def forward(self, x):\n",
    "        x = F.relu(self.conv1(x))\n",
    "        x = self.pool1(F.relu(self.conv2(x)))\n",
    "        x = self.dropout(x)\n",
    "        x = F.relu(self.conv3(x))\n",
    "        x = self.pool2(F.relu(self.conv4(x)))        \n",
    "        x = self.dropout(x)\n",
    "        x = x.view(-1, 64 * 9 * 9)\n",
    "        x = F.relu(self.fc1(x))\n",
    "        x = F.relu(self.fc2(x))\n",
    "        x = self.dropout(x)\n",
    "        x = self.fc3(x)\n",
    "        return x\n",
    "\n",
    "\n",
    "net = Net().to('cpu')"
   ]
  },
  {
   "cell_type": "code",
   "execution_count": 18,
   "metadata": {},
   "outputs": [],
   "source": [
    "criterion = nn.CrossEntropyLoss()\n",
    "optimizer = optim.SGD(net.parameters(), lr=0.001, momentum=0.9)"
   ]
  },
  {
   "cell_type": "code",
   "execution_count": 19,
   "metadata": {},
   "outputs": [
    {
     "name": "stdout",
     "output_type": "stream",
     "text": [
      "[1,     1] loss: 0.001\n",
      "[1,   301] loss: 0.345\n",
      "[1,   601] loss: 0.345\n",
      "[2,     1] loss: 0.001\n",
      "[2,   301] loss: 0.345\n",
      "[2,   601] loss: 0.342\n",
      "[3,     1] loss: 0.001\n",
      "[3,   301] loss: 0.328\n",
      "[3,   601] loss: 0.317\n",
      "[4,     1] loss: 0.001\n",
      "[4,   301] loss: 0.295\n",
      "[4,   601] loss: 0.287\n",
      "[5,     1] loss: 0.001\n",
      "[5,   301] loss: 0.268\n",
      "[5,   601] loss: 0.260\n",
      "[6,     1] loss: 0.001\n",
      "[6,   301] loss: 0.249\n",
      "[6,   601] loss: 0.246\n",
      "[7,     1] loss: 0.001\n",
      "[7,   301] loss: 0.237\n",
      "[7,   601] loss: 0.233\n",
      "[8,     1] loss: 0.001\n",
      "[8,   301] loss: 0.228\n",
      "[8,   601] loss: 0.222\n",
      "[9,     1] loss: 0.001\n",
      "[9,   301] loss: 0.218\n",
      "[9,   601] loss: 0.215\n",
      "[10,     1] loss: 0.001\n",
      "[10,   301] loss: 0.210\n",
      "[10,   601] loss: 0.208\n",
      "[11,     1] loss: 0.001\n",
      "[11,   301] loss: 0.202\n",
      "[11,   601] loss: 0.202\n",
      "[12,     1] loss: 0.001\n",
      "[12,   301] loss: 0.194\n",
      "[12,   601] loss: 0.196\n",
      "[13,     1] loss: 0.000\n",
      "[13,   301] loss: 0.189\n",
      "[13,   601] loss: 0.185\n",
      "[14,     1] loss: 0.001\n",
      "[14,   301] loss: 0.182\n",
      "[14,   601] loss: 0.179\n",
      "[15,     1] loss: 0.000\n",
      "[15,   301] loss: 0.176\n",
      "[15,   601] loss: 0.172\n",
      "Training is finished!\n"
     ]
    }
   ],
   "source": [
    "for epoch in range(15):  \n",
    "    running_loss = 0.0\n",
    "    for i, data in enumerate(train_loader, 0):\n",
    "        inputs, labels = data[0], data[1]\n",
    "\n",
    "        # обнуляем градиент\n",
    "        optimizer.zero_grad()\n",
    "\n",
    "        outputs = net(inputs)\n",
    "        loss = criterion(outputs, labels)\n",
    "        loss.backward()\n",
    "        optimizer.step()\n",
    "\n",
    "        # выводим статистику о процессе обучения\n",
    "        running_loss += loss.item()\n",
    "        if i % 300 == 0:   \n",
    "            print('[%d, %5d] loss: %.3f' %\n",
    "                  (epoch + 1, i + 1, running_loss / 2000))\n",
    "            running_loss = 0.0\n",
    "\n",
    "print('Training is finished!')"
   ]
  },
  {
   "cell_type": "code",
   "execution_count": 20,
   "metadata": {},
   "outputs": [],
   "source": [
    "PATH = './cifar_net_version_test_intro.pth'\n",
    "torch.save(net.state_dict(), PATH)"
   ]
  },
  {
   "cell_type": "code",
   "execution_count": 21,
   "metadata": {},
   "outputs": [
    {
     "name": "stdout",
     "output_type": "stream",
     "text": [
      "Model state_dict: \n",
      "conv1.weight  \\  torch.Size([32, 3, 5, 5])\n",
      "conv1.bias  \\  torch.Size([32])\n",
      "conv2.weight  \\  torch.Size([32, 32, 5, 5])\n",
      "conv2.bias  \\  torch.Size([32])\n",
      "conv3.weight  \\  torch.Size([64, 32, 5, 5])\n",
      "conv3.bias  \\  torch.Size([64])\n",
      "conv4.weight  \\  torch.Size([64, 64, 5, 5])\n",
      "conv4.bias  \\  torch.Size([64])\n",
      "fc1.weight  \\  torch.Size([256, 5184])\n",
      "fc1.bias  \\  torch.Size([256])\n",
      "fc2.weight  \\  torch.Size([256, 256])\n",
      "fc2.bias  \\  torch.Size([256])\n",
      "fc3.weight  \\  torch.Size([10, 256])\n",
      "fc3.bias  \\  torch.Size([10])\n"
     ]
    }
   ],
   "source": [
    "print(\"Model state_dict: \")\n",
    "for param in net.state_dict():\n",
    "    print(param,\" \\ \", net.state_dict()[param].size())"
   ]
  },
  {
   "cell_type": "code",
   "execution_count": 22,
   "metadata": {},
   "outputs": [
    {
     "data": {
      "text/plain": [
       "<All keys matched successfully>"
      ]
     },
     "execution_count": 22,
     "metadata": {},
     "output_type": "execute_result"
    }
   ],
   "source": [
    "net = Net()\n",
    "net.load_state_dict(torch.load(PATH))"
   ]
  },
  {
   "cell_type": "code",
   "execution_count": 23,
   "metadata": {},
   "outputs": [],
   "source": [
    "data_iter = iter(test_loader)\n",
    "images, labels = data_iter.next()"
   ]
  },
  {
   "cell_type": "code",
   "execution_count": 25,
   "metadata": {},
   "outputs": [
    {
     "name": "stdout",
     "output_type": "stream",
     "text": [
      "GroundTruth:    cat  ship  ship plane  frog  frog   car  frog   cat   car\n"
     ]
    },
    {
     "data": {
      "image/png": "[encoded data removed]",
      "text/plain": [
       "<Figure size 432x288 with 1 Axes>"
      ]
     },
     "metadata": {
      "needs_background": "light"
     },
     "output_type": "display_data"
    }
   ],
   "source": [
    "outputs = net(images)\n",
    "imgs = torchvision.utils.make_grid(images)\n",
    "plt.imshow(imgs.permute(1, 2, 0).numpy())\n",
    "print('GroundTruth: ', ' '.join('%5s' % classes[labels[j]] for j in range(10)))"
   ]
  },
  {
   "cell_type": "code",
   "execution_count": 26,
   "metadata": {},
   "outputs": [
    {
     "name": "stdout",
     "output_type": "stream",
     "text": [
      "tensor([[-0.8448, -1.9874,  1.2074,  3.1326,  0.8470,  2.4173, -1.0520,  0.5182,\n",
      "         -0.4844, -2.7746],\n",
      "        [ 6.1800,  8.1433, -1.0417, -3.6420, -3.9132, -6.1327, -5.6600, -5.2411,\n",
      "          6.4650,  4.7140],\n",
      "        [ 2.5884,  2.7432, -1.3375, -1.3997, -1.1899, -2.4258, -2.6206, -2.2295,\n",
      "          4.2675,  1.8633],\n",
      "        [ 3.0822,  2.4107,  0.4286, -1.3992, -1.9549, -3.6545, -2.0799, -2.6851,\n",
      "          4.2094,  1.5396],\n",
      "        [-2.8436, -4.6866,  1.9381,  2.7199,  4.1478,  2.1610,  4.5939, -0.6196,\n",
      "         -2.6098, -4.3545],\n",
      "        [-0.8023, -3.3719,  1.4020,  2.3226,  1.4085,  1.6789,  1.7082, -0.2297,\n",
      "         -1.8531, -2.5693],\n",
      "        [-0.0424,  3.9084,  0.0846,  1.0402, -2.1170, -0.6663, -0.2987, -2.4752,\n",
      "         -0.8836,  2.4786],\n",
      "        [-0.3492, -1.8902,  1.8957,  0.5728,  2.2235, -0.7100,  2.6870, -1.0896,\n",
      "         -1.8037, -1.8649],\n",
      "        [-1.1196, -3.9823,  2.2582,  3.0389,  1.6653,  3.8263, -0.1800,  0.8349,\n",
      "         -3.3818, -3.4927],\n",
      "        [ 0.8656,  6.1893, -0.1390, -1.2930, -3.2993, -1.7289, -1.0057, -3.4239,\n",
      "          0.2653,  4.2667]], grad_fn=<AddmmBackward>)\n"
     ]
    }
   ],
   "source": [
    "print(outputs)"
   ]
  },
  {
   "cell_type": "code",
   "execution_count": 28,
   "metadata": {},
   "outputs": [
    {
     "name": "stdout",
     "output_type": "stream",
     "text": [
      "Predicted:    cat   car  ship  ship  frog   cat   car  frog   dog   car\n"
     ]
    }
   ],
   "source": [
    "_, predicted = torch.max(outputs, 1)\n",
    "\n",
    "print('Predicted: ', ' '.join('%5s' % classes[predicted[j]]\n",
    "                              for j in range(10)))"
   ]
  },
  {
   "cell_type": "markdown",
   "metadata": {},
   "source": [
    "Получилось 6 из 10, с другими архитектурами получалось либо сравнимо, а исполнялось дольше. Или заметно хуже"
   ]
  },
  {
   "cell_type": "markdown",
   "metadata": {},
   "source": [
    "Переписать данный туториал на pytorch: https://www.tensorflow.org/tutorials/quickstart/beginner?hl=ru"
   ]
  },
  {
   "cell_type": "code",
   "execution_count": 29,
   "metadata": {},
   "outputs": [],
   "source": [
    "class Net(nn.Module):\n",
    "    def __init__(self):\n",
    "        super().__init__()\n",
    "        self.lin1 = nn.Linear(28 * 28, 128)\n",
    "        self.dropout = nn.Dropout(.2)\n",
    "        self.lin2 = nn.Linear(128, 10)\n",
    "\n",
    "    def forward(self, x):\n",
    "        x = x.view(-1, 28 * 28)\n",
    "        x = F.relu(self.lin1(x))\n",
    "        x = self.dropout(x)\n",
    "        x = F.softmax(self.lin2(x), dim=1)\n",
    "        return x\n",
    "\n",
    "\n",
    "net = Net()"
   ]
  },
  {
   "cell_type": "code",
   "execution_count": 30,
   "metadata": {},
   "outputs": [],
   "source": [
    "criterion = nn.CrossEntropyLoss()\n",
    "optimizer = torch.optim.Adam(net.parameters())"
   ]
  },
  {
   "cell_type": "code",
   "execution_count": 31,
   "metadata": {},
   "outputs": [],
   "source": [
    "inputs = Variable(torch.randn(100, 28, 28), requires_grad = True)\n",
    "labels = Variable(torch.randint(0, 10, (100,)), requires_grad = False)"
   ]
  },
  {
   "cell_type": "code",
   "execution_count": 32,
   "metadata": {},
   "outputs": [
    {
     "data": {
      "text/plain": [
       "(torch.Size([100, 28, 28]), torch.Size([100]))"
      ]
     },
     "execution_count": 32,
     "metadata": {},
     "output_type": "execute_result"
    }
   ],
   "source": [
    "inputs.shape, labels.shape"
   ]
  },
  {
   "cell_type": "code",
   "execution_count": null,
   "metadata": {},
   "outputs": [],
   "source": [
    "for epoch in range(10):\n",
    "    optimizer.zero_grad()\n",
    "\n",
    "    outputs = net(inputs)\n",
    "    loss = criterion(outputs, labels)\n",
    "    loss.backward()\n",
    "    optimizer.step()\n",
    "\n",
    "    print('[epoch %d] loss: %.3f' % (epoch + 1, loss))"
   ]
  }
 ],
 "metadata": {
  "kernelspec": {
   "display_name": "Python 3",
   "language": "python",
   "name": "python3"
  },
  "language_info": {
   "codemirror_mode": {
    "name": "ipython",
    "version": 3
   },
   "file_extension": ".py",
   "mimetype": "text/x-python",
   "name": "python",
   "nbconvert_exporter": "python",
   "pygments_lexer": "ipython3",
   "version": "3.7.8"
  }
 },
 "nbformat": 4,
 "nbformat_minor": 4
}
